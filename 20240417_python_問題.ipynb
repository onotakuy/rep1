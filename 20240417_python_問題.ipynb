{
  "nbformat": 4,
  "nbformat_minor": 0,
  "metadata": {
    "colab": {
      "provenance": [],
      "authorship_tag": "ABX9TyMU2hxs0mRYCtCQu10Nu2Sc",
      "include_colab_link": true
    },
    "kernelspec": {
      "name": "python3",
      "display_name": "Python 3"
    },
    "language_info": {
      "name": "python"
    }
  },
  "cells": [
    {
      "cell_type": "markdown",
      "metadata": {
        "id": "view-in-github",
        "colab_type": "text"
      },
      "source": [
        "<a href=\"https://colab.research.google.com/github/onotakuy/rep1/blob/main/20240417_python_%E5%95%8F%E9%A1%8C.ipynb\" target=\"_parent\"><img src=\"https://colab.research.google.com/assets/colab-badge.svg\" alt=\"Open In Colab\"/></a>"
      ]
    },
    {
      "cell_type": "markdown",
      "source": [
        "関数 analyze_numbers を作成してください。この関数は次のように動作します：\n",
        "\n",
        "引数として整数のリスト numbers を受け取ります。\n",
        "\n",
        "リスト内の各数値について、その数値が奇数か偶数かを判定し、その情報と数値自体をタプルの形でペアにします（例: (数値, \"odd\") または (数値, \"even\")）。\n",
        "\n",
        "これらのタプルを辞書に格納し、数値をキーとし、\"odd\" または \"even\" をそのキーの値とする辞書を返します。\n",
        "\n",
        "リストが空の場合は空の辞書を返します。\n",
        "\n",
        "テストコード\n",
        "テストコードは、関数が期待通りに動作することを検証するために、特定の入力に対する期待される出力を比較する形で書きます。"
      ],
      "metadata": {
        "id": "qlbn4_1aKWqu"
      }
    },
    {
      "cell_type": "code",
      "source": [
        "def test_analyze_numbers():\n",
        "    assert analyze_numbers([1, 2, 3, 4, 5]) == {1: \"odd\", 2: \"even\", 3: \"odd\", 4: \"even\", 5: \"odd\"}, \"Test with mixed odd and even numbers\"\n",
        "    assert analyze_numbers([10, 20, 30]) == {10: \"even\", 20: \"even\", 30: \"even\"}, \"Test with even numbers only\"\n",
        "    assert analyze_numbers([]) == {}, \"Test with empty list\"\n",
        "\n",
        "# Run the test functions\n",
        "test_analyze_numbers()"
      ],
      "metadata": {
        "id": "hXUzwDSbKnI-"
      },
      "execution_count": null,
      "outputs": []
    },
    {
      "cell_type": "markdown",
      "source": [
        "関数 format_student_grades を作成してください。この関数は次のように動作します：\n",
        "\n",
        "引数として学生の成績情報を持つ辞書 grades を受け取ります。この辞書は学生の名前をキーとし、成績（整数値）を値として持ちます。\n",
        "\n",
        "成績に基づき、各学生に対して成績評価を行い、新しい辞書を作成します。成績が70以上なら \"Pass\", それ以下なら \"Fail\" と評価します。\n",
        "\n",
        "各学生の名前とその評価を文字列で結合し、新たな辞書の値とします（例: \"Alice: Pass\"）。\n",
        "\n",
        "名前が辞書のキー、上記のような成績評価文字列が値となる辞書を返します。\n",
        "\n",
        "辞書が空の場合は空の辞書を返します。\n",
        "\n",
        "テストコード\n",
        "\n",
        "テストコードは、関数が期待通りに動作することを検証するために、特定の入力に対する期待される出力を比較する形で書きます。"
      ],
      "metadata": {
        "id": "yH8pDn18KXDm"
      }
    },
    {
      "cell_type": "code",
      "source": [
        "def test_format_student_grades():\n",
        "    assert format_student_grades({'Alice': 88, 'Bob': 59, 'Clara': 72}) == {'Alice': 'Alice: Pass', 'Bob': 'Bob: Fail', 'Clara': 'Clara: Pass'}, \"Test with mixed results\"\n",
        "    assert format_student_grades({'Dan': 70, 'Eve': 69}) == {'Dan': 'Dan: Pass', 'Eve': 'Eve: Fail'}, \"Test with boundary values\"\n",
        "    assert format_student_grades({}) == {}, \"Test with empty dictionary\"\n",
        "\n",
        "# Run the test functions\n",
        "test_format_student_grades()"
      ],
      "metadata": {
        "id": "JkafOafdLN-1"
      },
      "execution_count": null,
      "outputs": []
    },
    {
      "cell_type": "markdown",
      "source": [
        "関数 filter_and_square を作成してください。この関数は次のように動作します：\n",
        "\n",
        "引数として整数のリスト numbers を受け取ります。\n",
        "\n",
        "リスト内の偶数だけを抽出し、その値を二乗した結果を新しいリストに保存します。\n",
        "\n",
        "新しいリストを返します。\n",
        "\n",
        "リストが空の場合、または偶数がない場合は空のリストを返します。"
      ],
      "metadata": {
        "id": "-tkgSnxRLgdn"
      }
    },
    {
      "cell_type": "code",
      "source": [
        "def test_filter_and_square():\n",
        "    # Test with mixed numbers\n",
        "    assert filter_and_square([1, 2, 3, 4, 5, 6]) == [4, 16, 36], \"Test with mixed numbers\"\n",
        "    # Test with even numbers only\n",
        "    assert filter_and_square([2, 4, 6, 8]) == [4, 16, 36, 64], \"Test with even numbers only\"\n",
        "    # Test with odd numbers only\n",
        "    assert filter_and_square([1, 3, 5, 7]) == [], \"Test with odd numbers only\"\n",
        "    # Test with an empty list\n",
        "    assert filter_and_square([]) == [], \"Test with an empty list\"\n",
        "    return True\n",
        "\n",
        "# Run the test and print the result\n",
        "print(test_filter_and_square())  # Should print True if all tests pass"
      ],
      "metadata": {
        "id": "HfBgkq-ZLjuX"
      },
      "execution_count": null,
      "outputs": []
    },
    {
      "cell_type": "markdown",
      "source": [
        "関数 count_words_starting_with_vowel を作成してください。この関数は次のように動作します：\n",
        "\n",
        "引数として文字列 text を受け取ります。\n",
        "\n",
        "この文字列内の単語（スペースで区切られた文字列）を解析し、各単語が母音（a, e, i, o, u）で始まるかどうかを判定します。\n",
        "\n",
        "母音で始まる各単語の出現回数をカウントし、母音をキーとして、その母音で始まる単語の出現回数を値とする辞書を返します。\n",
        "\n",
        "辞書が空の場合、または母音で始まる単語がない場合は空の辞書を返します。"
      ],
      "metadata": {
        "id": "jf8g4u9nLi-m"
      }
    },
    {
      "cell_type": "code",
      "source": [
        "def test_count_words_starting_with_vowel():\n",
        "    # Test with a variety of words\n",
        "    assert count_words_starting_with_vowel(\"Apple is often eaten while observing an eagle\") == {'a': 3, 'e': 1, 'o': 1}, \"Test with multiple vowel-starting words\"\n",
        "    # Test with no vowel-starting words\n",
        "    assert count_words_starting_with_vowel(\"Sky is blue and grass is green\") == {}, \"Test with no vowel-starting words\"\n",
        "    # Test with an empty string\n",
        "    assert count_words_starting_with_vowel(\"\") == {}, \"Test with an empty string\"\n",
        "    return True\n",
        "\n",
        "# Run the test and print the result\n",
        "print(test_count_words_starting_with_vowel())"
      ],
      "metadata": {
        "id": "gKoDV_AFL6qV"
      },
      "execution_count": null,
      "outputs": []
    },
    {
      "cell_type": "markdown",
      "source": [
        "関数 sum_of_evens を作成してください。この関数は次のように動作します：\n",
        "\n",
        "引数として整数のリスト numbers を受け取ります。\n",
        "\n",
        "リスト内のすべての偶数の値を再帰的に合計します。\n",
        "\n",
        "合計された偶数の値を返します。\n",
        "\n",
        "リストが空の場合、または偶数がない場合は0を返します。"
      ],
      "metadata": {
        "id": "iQ1qWFC8LjG-"
      }
    },
    {
      "cell_type": "code",
      "source": [
        "def test_sum_of_evens():\n",
        "    # Test with mixed numbers\n",
        "    assert sum_of_evens([1, 2, 3, 4, 5, 6]) == 12, \"Test with mixed numbers\"\n",
        "    # Test with even numbers only\n",
        "    assert sum_of_evens([2, 4, 6, 8]) == 20, \"Test with even numbers only\"\n",
        "    # Test with odd numbers only\n",
        "    assert sum_of_evens([1, 3, 5, 7]) == 0, \"Test with odd numbers only\"\n",
        "    # Test with an empty list\n",
        "    assert sum_of_evens([]) == 0, \"Test with an empty list\"\n",
        "    return True\n",
        "\n",
        "# Run the test and print the result\n",
        "print(test_sum_of_evens())"
      ],
      "metadata": {
        "id": "hyNnAeSKMCAG"
      },
      "execution_count": null,
      "outputs": []
    },
    {
      "cell_type": "markdown",
      "source": [
        "関数 filter_divisible_numbers を作成してください。この関数は次のように動作します：\n",
        "\n",
        "引数として整数のリスト numbers を受け取ります。\n",
        "\n",
        "キーワード引数 divisor（デフォルト値は 1）を受け取ります。\n",
        "\n",
        "divisor で割り切れる整数のみを numbers リストから抽出します。\n",
        "\n",
        "抽出した整数を含む新しいリストを返します。\n",
        "\n",
        "元のリストに divisor で割り切れる整数がない場合、空のリストを返します。"
      ],
      "metadata": {
        "id": "zSVeXijYMn_F"
      }
    },
    {
      "cell_type": "code",
      "source": [
        "def test_filter_divisible_numbers():\n",
        "    # Test with default divisor\n",
        "    assert filter_divisible_numbers([1, 2, 3, 4, 5]) == [1, 2, 3, 4, 5], \"Test with default divisor\"\n",
        "    # Test with specific divisor\n",
        "    assert filter_divisible_numbers([10, 20, 30, 40, 50], divisor=10) == [10, 20, 30, 40, 50], \"Test with specific divisor\"\n",
        "    # Test with divisor that does not divide any number\n",
        "    assert filter_divisible_numbers([1, 2, 3, 4, 5], divisor=6) == [], \"Test with divisor that does not divide any number\"\n",
        "    # Test division by zero handling\n",
        "    assert filter_divisible_numbers([0, 1, 2, 3, 4], divisor=0) == [], \"Test division by zero\"\n",
        "    return True\n",
        "\n",
        "# Run the test and print the result\n",
        "print(test_filter_divisible_numbers())"
      ],
      "metadata": {
        "id": "-P-f51X4MpnG"
      },
      "execution_count": null,
      "outputs": []
    },
    {
      "cell_type": "markdown",
      "source": [
        "関数 combine_sorted_lists を作成してください。この関数は次のように動作します：\n",
        "\n",
        "引数として複数の整数リストを可変長引数として受け取ります。各リストはすでに昇順にソートされていると仮定します。\n",
        "受け取ったリストをすべて一つのリストに結合し、結合後も昇順が保たれるようにソートします。\n",
        "ソートされたリストを返します。\n",
        "引数が空の場合は空のリストを返します。"
      ],
      "metadata": {
        "id": "gpZnD_FsMlf1"
      }
    },
    {
      "cell_type": "code",
      "source": [
        "def test_combine_sorted_lists():\n",
        "    # Test with multiple sorted lists\n",
        "    assert combine_sorted_lists([1, 3, 5], [2, 4, 6], [7, 8, 9]) == [1, 2, 3, 4, 5, 6, 7, 8, 9], \"Test with multiple sorted lists\"\n",
        "    # Test with overlapping ranges\n",
        "    assert combine_sorted_lists([1, 2, 3], [2, 3, 4], [3, 4, 5]) == [1, 2, 2, 3, 3, 3, 4, 4, 5], \"Test with overlapping ranges\"\n",
        "    # Test with one list\n",
        "    assert combine_sorted_lists([1, 2, 3]) == [1, 2, 3], \"Test with one list\"\n",
        "    # Test with no lists\n",
        "    assert combine_sorted_lists() == [], \"Test with no lists\"\n",
        "    # Test with empty lists\n",
        "    assert combine_sorted_lists([], [], [1, 2, 3]) == [1, 2, 3], \"Test with empty lists\"\n",
        "    return True\n",
        "\n",
        "# Run the test and print the result\n",
        "print(test_combine_sorted_lists())"
      ],
      "metadata": {
        "id": "cvbxHzMfMmtG"
      },
      "execution_count": null,
      "outputs": []
    }
  ]
}